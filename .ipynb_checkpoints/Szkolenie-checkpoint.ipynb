{
 "cells": [
  {
   "cell_type": "markdown",
   "metadata": {},
   "source": [
    "**Diament dziedziczenia**"
   ]
  },
  {
   "cell_type": "code",
   "execution_count": 1,
   "metadata": {},
   "outputs": [
    {
     "name": "stdout",
     "output_type": "stream",
     "text": [
      "I'm class A\n",
      "I'm class B\n",
      "I'm class A\n",
      "I'm class C\n",
      "I'm class D\n"
     ]
    }
   ],
   "source": [
    "class A:\n",
    "    def info(self):\n",
    "        print(\"I'm class A\")\n",
    "        \n",
    "class B(A):\n",
    "    def info(self):\n",
    "        A.info(self)\n",
    "        print(\"I'm class B\")\n",
    "\n",
    "class C(A):\n",
    "    def info(self):\n",
    "        A.info(self)\n",
    "        print(\"I'm class C\")\n",
    "        \n",
    "class D(B, C):\n",
    "    def info(self):\n",
    "        B.info(self)\n",
    "        C.info(self)\n",
    "        print(\"I'm class D\")\n",
    "\n",
    "d = D()\n",
    "d.info()"
   ]
  },
  {
   "cell_type": "code",
   "execution_count": 2,
   "metadata": {},
   "outputs": [
    {
     "name": "stdout",
     "output_type": "stream",
     "text": [
      "I'm class A\n",
      "I'm class C\n",
      "I'm class B\n",
      "I'm class D\n"
     ]
    }
   ],
   "source": [
    "class A:\n",
    "    def info(self):\n",
    "        print(\"I'm class A\")\n",
    "        \n",
    "class B(A):\n",
    "    def info(self):\n",
    "        super().info()\n",
    "        print(\"I'm class B\")\n",
    "\n",
    "class C(A):\n",
    "    def info(self):\n",
    "        super().info()\n",
    "        print(\"I'm class C\")\n",
    "        \n",
    "class D(B, C):\n",
    "    def info(self):\n",
    "        super().info()\n",
    "        print(\"I'm class D\")\n",
    "\n",
    "d = D()\n",
    "d.info()"
   ]
  },
  {
   "cell_type": "code",
   "execution_count": 3,
   "metadata": {},
   "outputs": [
    {
     "name": "stdout",
     "output_type": "stream",
     "text": [
      "[10, 20, 30, [1, 2, 3]]\n"
     ]
    }
   ],
   "source": [
    "L1 = [10, 20, 30]\n",
    "L2 = [1, 2, 3]\n",
    "L1.append(L2)\n",
    "L2 = []\n",
    "print(L1)"
   ]
  },
  {
   "cell_type": "code",
   "execution_count": 4,
   "metadata": {},
   "outputs": [
    {
     "name": "stdout",
     "output_type": "stream",
     "text": [
      "[10, 20, 30, [1, 1000, 3]]\n"
     ]
    }
   ],
   "source": [
    "L1 = [10, 20, 30]\n",
    "L2 = [1, 2, 3]\n",
    "L1.append(L2)\n",
    "L2[1] = 1000\n",
    "print(L1)"
   ]
  },
  {
   "cell_type": "code",
   "execution_count": 6,
   "metadata": {},
   "outputs": [
    {
     "name": "stdout",
     "output_type": "stream",
     "text": [
      "[10, 20, 30, [...]]\n",
      "20\n"
     ]
    }
   ],
   "source": [
    "L1 = [10, 20, 30]\n",
    "L1.append(L1)\n",
    "print(L1)\n",
    "print(L1[3][3][1])"
   ]
  },
  {
   "cell_type": "code",
   "execution_count": 7,
   "metadata": {},
   "outputs": [
    {
     "name": "stdout",
     "output_type": "stream",
     "text": [
      "[10, 20, 30, [1, 2, 3]]\n"
     ]
    }
   ],
   "source": [
    "L1 = [10, 20, 30]\n",
    "L2 = [1, 2, 3]\n",
    "L1.append(list(L2))\n",
    "L2[1] = 1000\n",
    "print(L1)"
   ]
  },
  {
   "cell_type": "code",
   "execution_count": 10,
   "metadata": {},
   "outputs": [
    {
     "name": "stdout",
     "output_type": "stream",
     "text": [
      "[10, 20, 30, 1, 2, 3]\n"
     ]
    }
   ],
   "source": [
    "L1 = [10, 20, 30]\n",
    "L2 = [1, 2, 3]\n",
    "L1 += L2\n",
    "print(L1)"
   ]
  },
  {
   "cell_type": "code",
   "execution_count": 13,
   "metadata": {},
   "outputs": [
    {
     "name": "stdout",
     "output_type": "stream",
     "text": [
      "[10, 20, 30, [1, 2, 3, [...]]]\n"
     ]
    }
   ],
   "source": [
    "import copy\n",
    "\n",
    "L1 = [10, 20, 30]\n",
    "L2 = [1, 2, 3]\n",
    "L2.append(L1)\n",
    "L1.append(L2)\n",
    "L3 = copy.deepcopy(L1)\n",
    "L1[0] = 1000\n",
    "print(L3)"
   ]
  },
  {
   "cell_type": "code",
   "execution_count": 18,
   "metadata": {},
   "outputs": [
    {
     "name": "stdout",
     "output_type": "stream",
     "text": [
      "[1, 1]\n",
      "[1, 1]\n",
      "[1]\n",
      "[1, 1]\n",
      "[1, 1, 1]\n"
     ]
    }
   ],
   "source": [
    "def foo(g = []):\n",
    "    g.append(1)\n",
    "    print(g)\n",
    "    \n",
    "foo([1])\n",
    "foo([1])\n",
    "foo()\n",
    "foo()\n",
    "foo()"
   ]
  },
  {
   "cell_type": "code",
   "execution_count": 23,
   "metadata": {},
   "outputs": [
    {
     "name": "stdout",
     "output_type": "stream",
     "text": [
      "Konstrukcja\n",
      "Destrukcja\n",
      "Destrukcja\n"
     ]
    }
   ],
   "source": [
    "class X:\n",
    "    def __init__(self):\n",
    "        print(\"Konstrukcja\")\n",
    "        \n",
    "    def __del__(self):\n",
    "        print(\"Destrukcja\")\n",
    "        \n",
    "def foo(x = X()):\n",
    "    pass\n",
    "\n",
    "foo(12)\n",
    "del foo"
   ]
  },
  {
   "cell_type": "markdown",
   "metadata": {},
   "source": [
    "**Decorator**"
   ]
  },
  {
   "cell_type": "code",
   "execution_count": 25,
   "metadata": {},
   "outputs": [
    {
     "name": "stdout",
     "output_type": "stream",
     "text": [
      "In internal()\n",
      "End internal()\n",
      "4\n"
     ]
    }
   ],
   "source": [
    "def wrapper(func):\n",
    "    def internal(*args, **kwargs):\n",
    "        print(\"In internal()\")\n",
    "        result = func(*args, **kwargs)\n",
    "        print(\"End internal()\")\n",
    "        return result\n",
    "    return internal\n",
    "\n",
    "def calculate(a, b):\n",
    "    return a + b\n",
    "\n",
    "my_calculate = wrapper(calculate)\n",
    "print(my_calculate(2, 2))"
   ]
  },
  {
   "cell_type": "code",
   "execution_count": 26,
   "metadata": {},
   "outputs": [
    {
     "name": "stdout",
     "output_type": "stream",
     "text": [
      "In internal()\n",
      "End internal()\n",
      "4\n"
     ]
    }
   ],
   "source": [
    "def wrapper(func):\n",
    "    def internal(*args, **kwargs):\n",
    "        print(\"In internal()\")\n",
    "        result = func(*args, **kwargs)\n",
    "        print(\"End internal()\")\n",
    "        return result\n",
    "    return internal\n",
    "\n",
    "def calculate(a, b):\n",
    "    return a + b\n",
    "\n",
    "orig_calculate = calculate\n",
    "calculate = wrapper(calculate)\n",
    "print(calculate(2, 2))"
   ]
  },
  {
   "cell_type": "code",
   "execution_count": 27,
   "metadata": {},
   "outputs": [
    {
     "name": "stdout",
     "output_type": "stream",
     "text": [
      "In internal()\n",
      "End internal()\n",
      "4\n"
     ]
    }
   ],
   "source": [
    "def wrapper(func):\n",
    "    def internal(*args, **kwargs):\n",
    "        print(\"In internal()\")\n",
    "        result = func(*args, **kwargs)\n",
    "        print(\"End internal()\")\n",
    "        return result\n",
    "    return internal\n",
    "\n",
    "@wrapper\n",
    "def calculate(a, b):\n",
    "    return a + b\n",
    "\n",
    "#orig_calculate = calculate\n",
    "#calculate = wrapper(calculate)\n",
    "print(calculate(2, 2))"
   ]
  },
  {
   "cell_type": "code",
   "execution_count": 28,
   "metadata": {},
   "outputs": [
    {
     "name": "stdout",
     "output_type": "stream",
     "text": [
      "Enter to wrapper\n"
     ]
    }
   ],
   "source": [
    "def wrapper(func):\n",
    "    print(\"Enter to wrapper\")\n",
    "    def internal(*args, **kwargs):\n",
    "        print(\"In internal()\")\n",
    "        result = func(*args, **kwargs)\n",
    "        print(\"End internal()\")\n",
    "        return result\n",
    "    return internal\n",
    "\n",
    "@wrapper\n",
    "def calculate(a, b):\n",
    "    return a + b\n",
    "\n",
    "#print(calculate(2, 2))"
   ]
  },
  {
   "cell_type": "code",
   "execution_count": 29,
   "metadata": {},
   "outputs": [
    {
     "name": "stdout",
     "output_type": "stream",
     "text": [
      "Internal\n",
      "internal\n"
     ]
    }
   ],
   "source": [
    "def wrapper(func):\n",
    "    \"\"\"Wrapper\"\"\"\n",
    "    def internal(*args, **kwargs):\n",
    "        \"\"\"Internal\"\"\"\n",
    "        print(\"In internal()\")\n",
    "        result = func(*args, **kwargs)\n",
    "        print(\"End internal()\")\n",
    "        return result\n",
    "    return internal\n",
    "\n",
    "@wrapper\n",
    "def calculate(a, b):\n",
    "    \"\"\"Add values\"\"\"\n",
    "    return a + b\n",
    "\n",
    "print(calculate.__doc__)\n",
    "print(calculate.__name__)"
   ]
  },
  {
   "cell_type": "code",
   "execution_count": 31,
   "metadata": {},
   "outputs": [
    {
     "name": "stdout",
     "output_type": "stream",
     "text": [
      "Add values\n",
      "calculate\n"
     ]
    }
   ],
   "source": [
    "def wrapper(func):\n",
    "    \"\"\"Wrapper\"\"\"\n",
    "    def internal(*args, **kwargs):\n",
    "        \"\"\"Internal\"\"\"\n",
    "        print(\"In internal()\")\n",
    "        result = func(*args, **kwargs)\n",
    "        print(\"End internal()\")\n",
    "        return result\n",
    "    internal.__doc__ = func.__doc__\n",
    "    internal.__name__ = func.__name__\n",
    "    internal.__orig_func = func\n",
    "    return internal\n",
    "\n",
    "@wrapper\n",
    "def calculate(a, b):\n",
    "    \"\"\"Add values\"\"\"\n",
    "    return a + b\n",
    "\n",
    "print(calculate.__doc__)\n",
    "print(calculate.__name__)"
   ]
  },
  {
   "cell_type": "code",
   "execution_count": 32,
   "metadata": {},
   "outputs": [
    {
     "name": "stdout",
     "output_type": "stream",
     "text": [
      "Add values\n",
      "calculate\n"
     ]
    }
   ],
   "source": [
    "import functools\n",
    "\n",
    "def wrapper(func):\n",
    "    \"\"\"Wrapper\"\"\"\n",
    "    @functools.wraps(func)\n",
    "    def internal(*args, **kwargs):\n",
    "        \"\"\"Internal\"\"\"\n",
    "        print(\"In internal()\")\n",
    "        result = func(*args, **kwargs)\n",
    "        print(\"End internal()\")\n",
    "        return result\n",
    "    #internal.__doc__ = func.__doc__\n",
    "    #internal.__name__ = func.__name__\n",
    "    #internal.__orig_func = func\n",
    "    return internal\n",
    "\n",
    "@wrapper\n",
    "def calculate(a, b):\n",
    "    \"\"\"Add values\"\"\"\n",
    "    return a + b\n",
    "\n",
    "print(calculate.__doc__)\n",
    "print(calculate.__name__)"
   ]
  },
  {
   "cell_type": "code",
   "execution_count": 33,
   "metadata": {},
   "outputs": [
    {
     "name": "stdout",
     "output_type": "stream",
     "text": [
      "10\n",
      "0\n",
      "5\n"
     ]
    }
   ],
   "source": [
    "import functools\n",
    "\n",
    "def clip_0_10(func):\n",
    "    \"\"\"Wrapper\"\"\"\n",
    "    @functools.wraps(func)\n",
    "    def internal(*args, **kwargs):\n",
    "        \"\"\"Internal\"\"\"\n",
    "        result = func(*args, **kwargs)\n",
    "        if result < 0:\n",
    "            result = 0\n",
    "        elif result > 10:\n",
    "            result = 10\n",
    "        return result\n",
    "    return internal\n",
    "\n",
    "@clip_0_10\n",
    "def calculate(a, b):\n",
    "    \"\"\"Add values\"\"\"\n",
    "    return a + b\n",
    "\n",
    "print(calculate(10, 20))\n",
    "print(calculate(-10, -30))\n",
    "print(calculate(2, 3))"
   ]
  },
  {
   "cell_type": "code",
   "execution_count": 45,
   "metadata": {},
   "outputs": [
    {
     "name": "stdout",
     "output_type": "stream",
     "text": [
      "9227465\n"
     ]
    }
   ],
   "source": [
    "def memoize(func):\n",
    "    cache = {}\n",
    "    def internal(*args, **kwargs):\n",
    "        key = args, tuple(kwargs)\n",
    "        if key not in cache:\n",
    "            #print(\"Cache MISS!!!\")\n",
    "            cache[key] = func(*args, **kwargs)\n",
    "        else:\n",
    "            pass\n",
    "            #print(\"Cache HIT!!!\")\n",
    "        return cache[key]\n",
    "    return internal\n",
    "\n",
    "@memoize\n",
    "@clip_0_10\n",
    "def fibonacci(index):\n",
    "    if index < 2:\n",
    "        return index\n",
    "    return fibonacci(index - 2) + fibonacci(index - 1)\n",
    "\n",
    "print(fibonacci(35))"
   ]
  },
  {
   "cell_type": "code",
   "execution_count": 47,
   "metadata": {},
   "outputs": [
    {
     "name": "stdout",
     "output_type": "stream",
     "text": [
      "10\n",
      "0\n",
      "5\n"
     ]
    }
   ],
   "source": [
    "import functools\n",
    "\n",
    "def clip(min_value, max_value):\n",
    "    def wrapper(func):\n",
    "        \"\"\"Wrapper\"\"\"\n",
    "        @functools.wraps(func)\n",
    "        def internal(*args, **kwargs):\n",
    "            \"\"\"Internal\"\"\"\n",
    "            result = func(*args, **kwargs)\n",
    "            if result < min_value:\n",
    "                result = min_value\n",
    "            elif result > max_value:\n",
    "                result = max_value\n",
    "            return result\n",
    "        return internal\n",
    "    return wrapper\n",
    "\n",
    "@clip(0, 10)\n",
    "def calculate(a, b):\n",
    "    \"\"\"Add values\"\"\"\n",
    "    return a + b\n",
    "\n",
    "print(calculate(10, 20))\n",
    "print(calculate(-10, -30))\n",
    "print(calculate(2, 3))"
   ]
  },
  {
   "cell_type": "code",
   "execution_count": 49,
   "metadata": {},
   "outputs": [
    {
     "name": "stdout",
     "output_type": "stream",
     "text": [
      "X.foo()\n",
      "X\n"
     ]
    }
   ],
   "source": [
    "class X:\n",
    "    @staticmethod\n",
    "    def foo():\n",
    "        print(\"X.foo()\")\n",
    "    @classmethod\n",
    "    def cls_foo(cls):\n",
    "        print(cls.__name__)\n",
    "        \n",
    "X.foo()\n",
    "X.cls_foo()"
   ]
  },
  {
   "cell_type": "code",
   "execution_count": 50,
   "metadata": {},
   "outputs": [
    {
     "name": "stdout",
     "output_type": "stream",
     "text": [
      "Before\n",
      "After\n"
     ]
    }
   ],
   "source": [
    "class C:\n",
    "    def __enter__(self, *args, **kwargs):\n",
    "        print(\"Before\")\n",
    "        return self\n",
    "    def __exit__(self, *args, **kwargs):\n",
    "        print(\"After\")\n",
    "        return self\n",
    "    \n",
    "with C() as c:\n",
    "    pass"
   ]
  },
  {
   "cell_type": "code",
   "execution_count": 60,
   "metadata": {},
   "outputs": [
    {
     "name": "stdout",
     "output_type": "stream",
     "text": [
      "BEFORE\n",
      "0\n",
      "0\n",
      "0\n",
      "0\n"
     ]
    },
    {
     "ename": "RuntimeError",
     "evalue": "generator didn't stop",
     "output_type": "error",
     "traceback": [
      "\u001b[0;31m---------------------------------------------------------------------------\u001b[0m",
      "\u001b[0;31mRuntimeError\u001b[0m                              Traceback (most recent call last)",
      "\u001b[0;32m<ipython-input-60-c6940c6ba67c>\u001b[0m in \u001b[0;36m<module>\u001b[0;34m\u001b[0m\n\u001b[1;32m     13\u001b[0m     \u001b[0mprint\u001b[0m\u001b[0;34m(\u001b[0m\u001b[0mg\u001b[0m\u001b[0;34m)\u001b[0m\u001b[0;34m\u001b[0m\u001b[0;34m\u001b[0m\u001b[0m\n\u001b[1;32m     14\u001b[0m     \u001b[0mprint\u001b[0m\u001b[0;34m(\u001b[0m\u001b[0mg\u001b[0m\u001b[0;34m)\u001b[0m\u001b[0;34m\u001b[0m\u001b[0;34m\u001b[0m\u001b[0m\n\u001b[0;32m---> 15\u001b[0;31m     \u001b[0mprint\u001b[0m\u001b[0;34m(\u001b[0m\u001b[0mg\u001b[0m\u001b[0;34m)\u001b[0m\u001b[0;34m\u001b[0m\u001b[0;34m\u001b[0m\u001b[0m\n\u001b[0m\u001b[1;32m     16\u001b[0m \u001b[0;34m\u001b[0m\u001b[0m\n",
      "\u001b[0;32m/opt/local/Library/Frameworks/Python.framework/Versions/3.7/lib/python3.7/contextlib.py\u001b[0m in \u001b[0;36m__exit__\u001b[0;34m(self, type, value, traceback)\u001b[0m\n\u001b[1;32m    121\u001b[0m                 \u001b[0;32mreturn\u001b[0m \u001b[0;32mFalse\u001b[0m\u001b[0;34m\u001b[0m\u001b[0;34m\u001b[0m\u001b[0m\n\u001b[1;32m    122\u001b[0m             \u001b[0;32melse\u001b[0m\u001b[0;34m:\u001b[0m\u001b[0;34m\u001b[0m\u001b[0;34m\u001b[0m\u001b[0m\n\u001b[0;32m--> 123\u001b[0;31m                 \u001b[0;32mraise\u001b[0m \u001b[0mRuntimeError\u001b[0m\u001b[0;34m(\u001b[0m\u001b[0;34m\"generator didn't stop\"\u001b[0m\u001b[0;34m)\u001b[0m\u001b[0;34m\u001b[0m\u001b[0;34m\u001b[0m\u001b[0m\n\u001b[0m\u001b[1;32m    124\u001b[0m         \u001b[0;32melse\u001b[0m\u001b[0;34m:\u001b[0m\u001b[0;34m\u001b[0m\u001b[0;34m\u001b[0m\u001b[0m\n\u001b[1;32m    125\u001b[0m             \u001b[0;32mif\u001b[0m \u001b[0mvalue\u001b[0m \u001b[0;32mis\u001b[0m \u001b[0;32mNone\u001b[0m\u001b[0;34m:\u001b[0m\u001b[0;34m\u001b[0m\u001b[0;34m\u001b[0m\u001b[0m\n",
      "\u001b[0;31mRuntimeError\u001b[0m: generator didn't stop"
     ]
    }
   ],
   "source": [
    "from contextlib import contextmanager\n",
    "\n",
    "@contextmanager\n",
    "def make(before, after):\n",
    "    print(before)\n",
    "    yield 1\n",
    "    print(after)\n",
    "    \n",
    "\n",
    "with make(\"BEFORE\", \"AFTER\") as g:\n",
    "    print(g)\n",
    "    print(g)\n",
    "    print(g)\n",
    "    print(g)\n",
    "    "
   ]
  },
  {
   "cell_type": "code",
   "execution_count": 62,
   "metadata": {},
   "outputs": [
    {
     "name": "stdout",
     "output_type": "stream",
     "text": [
      "Zenon\n",
      "Teraz nie ma imienia :(\n"
     ]
    }
   ],
   "source": [
    "class Person:\n",
    "    def __init__(self, name, age):\n",
    "        self._name = name\n",
    "        self._age = age\n",
    "    @property\n",
    "    def name(self):\n",
    "        return self._name\n",
    "    @name.setter\n",
    "    def name(self, value):\n",
    "        self._name = value\n",
    "    @name.deleter\n",
    "    def name(self):\n",
    "        print(\"Teraz nie ma imienia :(\")\n",
    "        del self._name\n",
    "        \n",
    "person = Person(\"Agnieszka\", 22)\n",
    "person.name = \"Zenon\"\n",
    "print(person.name)\n",
    "del person.name"
   ]
  },
  {
   "cell_type": "markdown",
   "metadata": {},
   "source": [
    "**Przeciążenie odejmowania**"
   ]
  },
  {
   "cell_type": "code",
   "execution_count": 2,
   "metadata": {},
   "outputs": [
    {
     "name": "stdout",
     "output_type": "stream",
     "text": [
      "88\n"
     ]
    }
   ],
   "source": [
    "class X:\n",
    "    def __init__(self, value):\n",
    "        self._value = value\n",
    "    def __sub__(self, dif):\n",
    "        self._value -= dif\n",
    "        return self\n",
    "    \n",
    "x = X(100)\n",
    "x - 12\n",
    "print(x._value)"
   ]
  },
  {
   "cell_type": "code",
   "execution_count": 3,
   "metadata": {},
   "outputs": [
    {
     "name": "stdout",
     "output_type": "stream",
     "text": [
      "88\n"
     ]
    }
   ],
   "source": [
    "class X:\n",
    "    def __init__(self, value):\n",
    "        self._value = value\n",
    "    def __sub__(self, dif):\n",
    "        return self._value - dif\n",
    "    \n",
    "x = X(100)\n",
    "print(x - 12)"
   ]
  },
  {
   "cell_type": "code",
   "execution_count": 6,
   "metadata": {},
   "outputs": [
    {
     "data": {
      "text/plain": [
       "['__add__',\n",
       " '__class__',\n",
       " '__contains__',\n",
       " '__delattr__',\n",
       " '__delitem__',\n",
       " '__dir__',\n",
       " '__doc__',\n",
       " '__eq__',\n",
       " '__format__',\n",
       " '__ge__',\n",
       " '__getattribute__',\n",
       " '__getitem__',\n",
       " '__gt__',\n",
       " '__hash__',\n",
       " '__iadd__',\n",
       " '__imul__',\n",
       " '__init__',\n",
       " '__init_subclass__',\n",
       " '__iter__',\n",
       " '__le__',\n",
       " '__len__',\n",
       " '__lt__',\n",
       " '__mul__',\n",
       " '__ne__',\n",
       " '__new__',\n",
       " '__reduce__',\n",
       " '__reduce_ex__',\n",
       " '__repr__',\n",
       " '__reversed__',\n",
       " '__rmul__',\n",
       " '__setattr__',\n",
       " '__setitem__',\n",
       " '__sizeof__',\n",
       " '__str__',\n",
       " '__subclasshook__',\n",
       " 'append',\n",
       " 'clear',\n",
       " 'copy',\n",
       " 'count',\n",
       " 'extend',\n",
       " 'index',\n",
       " 'insert',\n",
       " 'pop',\n",
       " 'remove',\n",
       " 'reverse',\n",
       " 'sort']"
      ]
     },
     "execution_count": 6,
     "metadata": {},
     "output_type": "execute_result"
    }
   ],
   "source": [
    "a = []\n",
    "dir(a)"
   ]
  },
  {
   "cell_type": "code",
   "execution_count": 8,
   "metadata": {},
   "outputs": [
    {
     "name": "stdout",
     "output_type": "stream",
     "text": [
      "36\n"
     ]
    }
   ],
   "source": [
    "class X:\n",
    "    def __init__(self, value):\n",
    "        self._data = [value, value * 2, value * 3]\n",
    "    def __getitem__(self, index):\n",
    "        return self._data[index]\n",
    "    \n",
    "x = X(12)\n",
    "print(x[2])"
   ]
  },
  {
   "cell_type": "code",
   "execution_count": 10,
   "metadata": {},
   "outputs": [
    {
     "name": "stdout",
     "output_type": "stream",
     "text": [
      "PointXY: 100, 2\n",
      "Tu mogę zrobić coś w proxy\n",
      "100\n",
      "PointXY: 100, 2\n"
     ]
    }
   ],
   "source": [
    "class Proxy:\n",
    "    def __init__(self, obj):\n",
    "        self._obj = obj\n",
    "        \n",
    "    def __getattr__(self, name):\n",
    "        print(\"Tu mogę zrobić coś w proxy\")\n",
    "        if hasattr(self._obj, name):\n",
    "            return getattr(self._obj, name)\n",
    "        raise ValueError()\n",
    "    def __repr__(self):\n",
    "        return self._obj.__repr__()\n",
    "        \n",
    "\n",
    "class PointXY:\n",
    "    def __init__(self, x, y):\n",
    "        self._x = x\n",
    "        self._y = y\n",
    "    def __repr__(self):\n",
    "        return \"PointXY: \" + str(self._x) + \", \" + str(self._y)\n",
    "    def set_x(self, x):\n",
    "        self._x = x\n",
    "    def set_y(self, y):\n",
    "        self._y = y\n",
    "        \n",
    "point1 = PointXY(1, 2)\n",
    "point1.set_x(100)\n",
    "print(point1)\n",
    "\n",
    "point2 = Proxy(point1)\n",
    "print(point2._x)\n",
    "\n",
    "print(point2)\n",
    "\n"
   ]
  },
  {
   "cell_type": "markdown",
   "metadata": {},
   "source": [
    "**Generator obiektowo**"
   ]
  },
  {
   "cell_type": "code",
   "execution_count": 3,
   "metadata": {},
   "outputs": [
    {
     "name": "stdout",
     "output_type": "stream",
     "text": [
      "0\n",
      "1\n",
      "2\n"
     ]
    },
    {
     "ename": "StopIteration",
     "evalue": "",
     "output_type": "error",
     "traceback": [
      "\u001b[0;31m---------------------------------------------------------------------------\u001b[0m",
      "\u001b[0;31mStopIteration\u001b[0m                             Traceback (most recent call last)",
      "\u001b[0;32m<ipython-input-3-d2e15009b205>\u001b[0m in \u001b[0;36m<module>\u001b[0;34m\u001b[0m\n\u001b[1;32m      3\u001b[0m \u001b[0mprint\u001b[0m\u001b[0;34m(\u001b[0m\u001b[0mg\u001b[0m\u001b[0;34m.\u001b[0m\u001b[0m__next__\u001b[0m\u001b[0;34m(\u001b[0m\u001b[0;34m)\u001b[0m\u001b[0;34m)\u001b[0m\u001b[0;34m\u001b[0m\u001b[0;34m\u001b[0m\u001b[0m\n\u001b[1;32m      4\u001b[0m \u001b[0mprint\u001b[0m\u001b[0;34m(\u001b[0m\u001b[0mg\u001b[0m\u001b[0;34m.\u001b[0m\u001b[0m__next__\u001b[0m\u001b[0;34m(\u001b[0m\u001b[0;34m)\u001b[0m\u001b[0;34m)\u001b[0m\u001b[0;34m\u001b[0m\u001b[0;34m\u001b[0m\u001b[0m\n\u001b[0;32m----> 5\u001b[0;31m \u001b[0mprint\u001b[0m\u001b[0;34m(\u001b[0m\u001b[0mg\u001b[0m\u001b[0;34m.\u001b[0m\u001b[0m__next__\u001b[0m\u001b[0;34m(\u001b[0m\u001b[0;34m)\u001b[0m\u001b[0;34m)\u001b[0m\u001b[0;34m\u001b[0m\u001b[0;34m\u001b[0m\u001b[0m\n\u001b[0m",
      "\u001b[0;31mStopIteration\u001b[0m: "
     ]
    }
   ],
   "source": [
    "g = (x for x in range(3))\n",
    "print(g.__next__())\n",
    "print(g.__next__())\n",
    "print(g.__next__())\n",
    "print(g.__next__())\n"
   ]
  },
  {
   "cell_type": "code",
   "execution_count": 6,
   "metadata": {},
   "outputs": [
    {
     "name": "stdout",
     "output_type": "stream",
     "text": [
      "9\n",
      "8\n",
      "7\n",
      "6\n",
      "5\n",
      "4\n",
      "3\n",
      "2\n",
      "1\n",
      "[12, 11, 10, 9, 8, 7, 6, 5, 4, 3, 2, 1]\n"
     ]
    }
   ],
   "source": [
    "class MyRange:\n",
    "    def __init__(self, value):\n",
    "        self._value = value\n",
    "        \n",
    "    def __iter__(self):\n",
    "        return self\n",
    "    \n",
    "    def __next__(self):\n",
    "        self._value -= 1\n",
    "        if self._value == 0:\n",
    "            raise StopIteration()\n",
    "        return self._value\n",
    "    \n",
    "for i in MyRange(10):\n",
    "    print(i)\n",
    "    \n",
    "print(list(MyRange(13)))"
   ]
  },
  {
   "cell_type": "code",
   "execution_count": 9,
   "metadata": {},
   "outputs": [
    {
     "data": {
      "text/plain": [
       "[2, 3, 4, 5, 5]"
      ]
     },
     "execution_count": 9,
     "metadata": {},
     "output_type": "execute_result"
    }
   ],
   "source": [
    "L1 = [7, 5, 1,2,3,4,5]\n",
    "L1.sort()\n",
    "L1\n",
    "min_element, *_, max_elemen = L1\n",
    "values"
   ]
  },
  {
   "cell_type": "code",
   "execution_count": null,
   "metadata": {},
   "outputs": [],
   "source": []
  }
 ],
 "metadata": {
  "kernelspec": {
   "display_name": "Python 3",
   "language": "python",
   "name": "python3"
  },
  "language_info": {
   "codemirror_mode": {
    "name": "ipython",
    "version": 3
   },
   "file_extension": ".py",
   "mimetype": "text/x-python",
   "name": "python",
   "nbconvert_exporter": "python",
   "pygments_lexer": "ipython3",
   "version": "3.7.6"
  }
 },
 "nbformat": 4,
 "nbformat_minor": 4
}
